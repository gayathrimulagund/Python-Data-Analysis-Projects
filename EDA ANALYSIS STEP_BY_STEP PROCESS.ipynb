{
 "cells": [
  {
   "cell_type": "markdown",
   "id": "6be61a91-f583-47a0-8420-2bba69d28b22",
   "metadata": {},
   "source": [
    "# EDA ANALYSIS COURSERA PROJECT"
   ]
  },
  {
   "cell_type": "code",
   "execution_count": null,
   "id": "3eda1674-12e0-4fde-8677-55b63b7c6bc4",
   "metadata": {
    "tags": []
   },
   "outputs": [],
   "source": [
    "import pandas as pd\n",
    "import numpy as np\n",
    "import matplotlib.pyplot as plt\n",
    "import seaborn as sns\n",
    "import calmap\n",
    "from pandas_profiling import ProfileReport"
   ]
  },
  {
   "cell_type": "markdown",
   "id": "30176123-5189-46f1-a9c1-d3bf53a3fc43",
   "metadata": {},
   "source": [
    "Link to data source: https://www.kaggle.com/aungpyaeap/supermarket-sales"
   ]
  },
  {
   "cell_type": "markdown",
   "id": "4238e1a9-26ae-4385-ba37-d147e9d89980",
   "metadata": {},
   "source": [
    "Context\n",
    "\n",
    "The growth of supermarkets in most populated cities are increasing and market competitions are also high.\n",
    "\n",
    "The dataset is one of the historical sales of supermarket company which has recorded in 3 different branches for 3 months data.\n"
   ]
  },
  {
   "cell_type": "markdown",
   "id": "9ea26ba3-ab8d-42d7-a158-db66b96d706b",
   "metadata": {},
   "source": [
    "Data Dictionary\n",
    "\n",
    "    Invoice id: Computer generated sales slip invoice identification number\n",
    "\n",
    "    Branch: Branch of supercenter (3 branches are available identified by A, B and C).\n",
    "\n",
    "    City: Location of supercenters\n",
    "\n",
    "    Customer type: Type of customers, recorded by Members for customers using member card and Normal for without member card.\n",
    "\n",
    "    Gender: Gender type of customer\n",
    "\n",
    "    Product line: General item categorization groups - Electronic accessories, Fashion accessories, Food and beverages, Health and beauty, Home and lifestyle, Sports and travel\n",
    "\n",
    "    Unit price: Price of each product in USD\n",
    "\n",
    "    Quantity: Number of products purchased by customer\n",
    "\n",
    "    Tax: 5% tax fee for customer buying\n",
    "\n",
    "    Total: Total price including tax\n",
    "    Date: Date of purchase (Record available from January 2019 to March 2019)\n",
    "\n",
    "    Time: Purchase time (10am to 9pm)\n",
    "\n",
    "    Payment: Payment used by customer for purchase (3 methods are available \\u2013 Cash, Credit card and Ewallet)\n",
    "\n",
    "    COGS: Cost of goods sold\n",
    "\n",
    "    Gross margin percentage: Gross margin percentage\n",
    "\n",
    "    Gross income: Gross income\n",
    "\n",
    "    Rating: Customer stratification rating on their overall shopping experience (On a scale of 1 to 10)\n"
   ]
  },
  {
   "cell_type": "markdown",
   "id": "55bc2e12-8160-49c0-8775-c762881b16a3",
   "metadata": {},
   "source": [
    "## Task 1 : Initial Data Exploration"
   ]
  },
  {
   "cell_type": "markdown",
   "id": "2b6dcf52-da4c-451c-91ee-f423499e2c73",
   "metadata": {},
   "source": [
    "### Creating dataframes:"
   ]
  },
  {
   "cell_type": "code",
   "execution_count": null,
   "id": "2e87bd35-4473-47ba-80a3-95e9a6c11481",
   "metadata": {},
   "outputs": [],
   "source": [
    "df = pd.read_csv(‘supermarket_sales.csv’)\n",
    "df.head(2)\n",
    "df.columns\n",
    "df.dtypes"
   ]
  },
  {
   "cell_type": "markdown",
   "id": "5efc1140-b7b8-4f2f-9cc9-242701d140fd",
   "metadata": {},
   "source": [
    "### Date is a string, convert to date"
   ]
  },
  {
   "cell_type": "code",
   "execution_count": null,
   "id": "93d959f1-f5bb-4e38-8f14-b1775cbd1df0",
   "metadata": {},
   "outputs": [],
   "source": [
    "df[‘Date] = pd.to.datetime(df[‘Date’])\n",
    "df.dtypes"
   ]
  },
  {
   "cell_type": "markdown",
   "id": "eee56b3e-3575-47d7-8e86-dab847acd966",
   "metadata": {},
   "source": [
    "### set Date as index and make the change permanent"
   ]
  },
  {
   "cell_type": "code",
   "execution_count": null,
   "id": "8ea94e47-f883-4166-affb-fe3aa0939e2d",
   "metadata": {},
   "outputs": [],
   "source": [
    "df.set_index[‘Date’,inplace=True]\n",
    "df.head(2)"
   ]
  },
  {
   "cell_type": "markdown",
   "id": "c37198b8-980f-487b-808d-7b76a94fc711",
   "metadata": {},
   "source": [
    "## Calculate summary statistics"
   ]
  },
  {
   "cell_type": "code",
   "execution_count": null,
   "id": "eb121db4-af05-431c-b85a-de6a60c1772d",
   "metadata": {},
   "outputs": [],
   "source": [
    "df.describe()"
   ]
  },
  {
   "cell_type": "markdown",
   "id": "7fff339e-cc21-4825-b54c-0084b5fcd0d4",
   "metadata": {},
   "source": [
    "# TASK 2 : UNIVARIATE ANALYSIS"
   ]
  },
  {
   "cell_type": "markdown",
   "id": "db2590e3-e9c5-4f3c-9a8b-812a604620b5",
   "metadata": {},
   "source": [
    "### Question 1: What does the distribution of customer ratings look like? Is it skewed?"
   ]
  },
  {
   "cell_type": "markdown",
   "id": "ced531a6-84e3-49f9-8798-43f876f73184",
   "metadata": {},
   "source": [
    "### #to plot distribution"
   ]
  },
  {
   "cell_type": "code",
   "execution_count": null,
   "id": "fc6cf5a1-0717-41af-90a3-8eb1c6c31ba4",
   "metadata": {},
   "outputs": [],
   "source": [
    "sns.distplot(df['Rating'])"
   ]
  },
  {
   "cell_type": "markdown",
   "id": "021956ca-7c19-4899-a20b-5c0e1e1f779a",
   "metadata": {},
   "source": [
    "### #to plot mean"
   ]
  },
  {
   "cell_type": "code",
   "execution_count": null,
   "id": "39d70f6f-202f-4c03-92ef-b8144a8fa2fb",
   "metadata": {},
   "outputs": [],
   "source": [
    "plt.axvline(x=np.mean(df[‘Rating’]),c=’red’,ls=’—‘,label=’mean)"
   ]
  },
  {
   "cell_type": "markdown",
   "id": "3a7bc77d-8856-4f2b-8e67-4102c7cada9c",
   "metadata": {},
   "source": [
    "### #to plot the 25th and 75th percentile"
   ]
  },
  {
   "cell_type": "code",
   "execution_count": null,
   "id": "ad5e819e-07da-4bf5-bb07-02fb7cc6c78f",
   "metadata": {},
   "outputs": [],
   "source": [
    "plt.axvline(x=np.percentile(df[‘Rating’],25),c=’green’,ls=’—‘,label=’25th percentile’)\n",
    "plt.axvline(x=np.percentile(df[‘Rating’],75),c=’green’,ls=’—‘,label=’75th percentile’)"
   ]
  },
  {
   "cell_type": "markdown",
   "id": "0be1bbc6-b847-454a-9541-ac2bb1c7b65f",
   "metadata": {},
   "source": [
    "### to show legend"
   ]
  },
  {
   "cell_type": "code",
   "execution_count": null,
   "id": "d11fbedf-9165-458f-ad29-5e53d8a3774f",
   "metadata": {},
   "outputs": [],
   "source": [
    "plt.legend()"
   ]
  },
  {
   "cell_type": "markdown",
   "id": "f51f6f28-373e-43dc-9300-0e74b96af87a",
   "metadata": {},
   "source": [
    "### Answer: Uniform distribution, no skew."
   ]
  },
  {
   "cell_type": "markdown",
   "id": "c1b41720-feab-4e01-a11e-a374d07915f4",
   "metadata": {},
   "source": [
    "### #histplot"
   ]
  },
  {
   "cell_type": "code",
   "execution_count": null,
   "id": "98de0d16-8d07-4507-8ba3-4addaed7ab61",
   "metadata": {},
   "outputs": [],
   "source": [
    "df.hist(figsize=(10,10))"
   ]
  },
  {
   "cell_type": "markdown",
   "id": "a27c991f-6056-4e92-90b4-ea872ec05687",
   "metadata": {},
   "source": [
    "### Question 2: Do aggregare sales numbers differ by much between branches?"
   ]
  },
  {
   "cell_type": "code",
   "execution_count": null,
   "id": "73f98c66-d7cb-4a25-87c8-74468d54cb82",
   "metadata": {},
   "outputs": [],
   "source": [
    "sns.countplot(df([‘Branch’])"
   ]
  },
  {
   "cell_type": "markdown",
   "id": "b04ae267-a686-4d40-946a-3007ba4ba5fd",
   "metadata": {},
   "source": [
    "### Answer: No"
   ]
  },
  {
   "cell_type": "markdown",
   "id": "f88f2133-16d3-418c-9937-27e9ab1c9a60",
   "metadata": {},
   "source": [
    "### to get values"
   ]
  },
  {
   "cell_type": "code",
   "execution_count": null,
   "id": "d4a993df-21f3-41f5-8143-bf2514cd9be0",
   "metadata": {},
   "outputs": [],
   "source": [
    "df[‘Branch’].value_counts()"
   ]
  },
  {
   "cell_type": "markdown",
   "id": "b44f4a8f-0364-441e-a3c8-b11871846ce9",
   "metadata": {},
   "source": [
    "### Extra: Check for payment"
   ]
  },
  {
   "cell_type": "code",
   "execution_count": null,
   "id": "495fd909-c002-409d-ac5f-c3b47eb99df6",
   "metadata": {},
   "outputs": [],
   "source": [
    "sns.countplot(df[‘Payment’])\n",
    "df[‘Payment’].value_counts()"
   ]
  },
  {
   "cell_type": "markdown",
   "id": "9b1de5ef-672d-4a21-9b6e-93f49d5e7081",
   "metadata": {},
   "source": [
    "### TASK 3 : BIVARIATE ANALYSIS"
   ]
  },
  {
   "cell_type": "markdown",
   "id": "a3176f17-f1d9-4176-bcf6-c41e38bcaa8a",
   "metadata": {},
   "source": [
    "### Question 3: Is there a relationship between gross income and customer ratings?"
   ]
  },
  {
   "cell_type": "code",
   "execution_count": null,
   "id": "ada2e4e6-d60d-449a-8b6d-3b47dc0a1ddc",
   "metadata": {},
   "outputs": [],
   "source": [
    "sns.scatterplot(df[‘Rating’],df[‘gross income’])"
   ]
  },
  {
   "cell_type": "markdown",
   "id": "3d1e3597-cd48-43b4-98d5-d7409643f5ad",
   "metadata": {},
   "source": [
    "### #to get trend line use regplot"
   ]
  },
  {
   "cell_type": "code",
   "execution_count": null,
   "id": "a8379acd-e7ee-4fc7-9b39-eab42229618a",
   "metadata": {},
   "outputs": [],
   "source": [
    "sns.regplot(df[‘Rating’],df[‘gross income’])"
   ]
  },
  {
   "cell_type": "markdown",
   "id": "0fe1e4fc-6fb0-4981-81ce-6b3aba2e11cf",
   "metadata": {},
   "source": [
    "### Answer= No relationship. Trendline is flat"
   ]
  },
  {
   "cell_type": "markdown",
   "id": "a6bcfe05-73eb-473a-b1ae-6535dab9b817",
   "metadata": {},
   "source": [
    "### Extra - Check Branch and gender relationship with gross income"
   ]
  },
  {
   "cell_type": "code",
   "execution_count": null,
   "id": "0522ec2b-6dcc-4655-9577-7ed9c3bec57c",
   "metadata": {},
   "outputs": [],
   "source": [
    "sns.boxplot(x=df[‘Branch’],y=df[‘gross income’])"
   ]
  },
  {
   "cell_type": "code",
   "execution_count": null,
   "id": "643a3d97-6cce-45c6-b3d6-fe49cc656751",
   "metadata": {},
   "outputs": [],
   "source": [
    "sns.boxplot(x=df[‘Gender’],y=df[‘gross income’])"
   ]
  },
  {
   "cell_type": "markdown",
   "id": "08f355ad-356c-42a1-b67a-d23e6ddeaa7f",
   "metadata": {},
   "source": [
    "### Question 4: Is there a noticeable time trend in gross income?"
   ]
  },
  {
   "cell_type": "markdown",
   "id": "7128925f-a6fa-4bef-8f02-e834f9b02dd5",
   "metadata": {},
   "source": [
    "### # Use aggregation for dates"
   ]
  },
  {
   "cell_type": "code",
   "execution_count": null,
   "id": "bc69bf3f-e64a-4a61-86c4-a1fe8dc8c4ca",
   "metadata": {},
   "outputs": [],
   "source": [
    "df.groupby(df.index).mean()"
   ]
  },
  {
   "cell_type": "code",
   "execution_count": null,
   "id": "e353d879-edad-4ea9-9728-d4eea9ae94ca",
   "metadata": {},
   "outputs": [],
   "source": [
    "df.groupby(df.index).mean().index"
   ]
  },
  {
   "cell_type": "markdown",
   "id": "4c709be2-78c6-4071-9f4d-730992d3f3f1",
   "metadata": {},
   "source": [
    "### #lineplot"
   ]
  },
  {
   "cell_type": "code",
   "execution_count": null,
   "id": "0255d7d7-c13a-4af8-a5e0-087c26046199",
   "metadata": {},
   "outputs": [],
   "source": [
    "sns.lineplot(x=df.groupby(df.index).mean().index,\n",
    "\t\ty=df.groupby(df.index).mean()[‘gross income’])"
   ]
  },
  {
   "cell_type": "markdown",
   "id": "ae1c07c6-49c1-4a99-95b1-43e2486708b5",
   "metadata": {},
   "source": [
    "### EXTRA - Use PairPlot to review all vairiates"
   ]
  },
  {
   "cell_type": "code",
   "execution_count": null,
   "id": "8a02fb12-316c-4d4c-9468-c0d1a7466f1d",
   "metadata": {},
   "outputs": [],
   "source": [
    "sns.pairplot(df)"
   ]
  },
  {
   "cell_type": "markdown",
   "id": "b4e47fba-e4cd-4496-94e0-5535d4edf337",
   "metadata": {},
   "source": [
    "### TASK 4 : DEALING WITH DUPLICATE ROWS AND MISSING VALUES"
   ]
  },
  {
   "cell_type": "markdown",
   "id": "571ac6a1-2e63-45e3-8e6b-73604acc1b0f",
   "metadata": {},
   "source": [
    "### # check for duplicates"
   ]
  },
  {
   "cell_type": "code",
   "execution_count": null,
   "id": "525ae675-f34e-4581-9b9e-cb55134d4ca8",
   "metadata": {},
   "outputs": [],
   "source": [
    "df.duplicated()"
   ]
  },
  {
   "cell_type": "markdown",
   "id": "c165c4be-914e-41da-8876-1602866bbbe3",
   "metadata": {},
   "source": [
    "### #to check the count of duplicated data"
   ]
  },
  {
   "cell_type": "code",
   "execution_count": null,
   "id": "197e0eef-2cf2-4540-b8dd-b110b106399e",
   "metadata": {},
   "outputs": [],
   "source": [
    "df.duplicated().sum()"
   ]
  },
  {
   "cell_type": "markdown",
   "id": "120d20ee-d826-49a8-8672-7b8d23606140",
   "metadata": {},
   "source": [
    "### to view duplicated rows"
   ]
  },
  {
   "cell_type": "code",
   "execution_count": null,
   "id": "c82f24b3-4637-4b49-a3c0-09dc2f792153",
   "metadata": {},
   "outputs": [],
   "source": [
    "df[df.duplicated()==True]"
   ]
  },
  {
   "cell_type": "markdown",
   "id": "903fced4-1609-4d9f-9c55-fd16a6c4b881",
   "metadata": {},
   "source": [
    "### to remove duplicates"
   ]
  },
  {
   "cell_type": "code",
   "execution_count": null,
   "id": "dcfad6b1-7f5e-443c-88d7-56c238aedbe5",
   "metadata": {},
   "outputs": [],
   "source": [
    "df.drop_duplicated(inplace=True)"
   ]
  },
  {
   "cell_type": "markdown",
   "id": "d5181849-4d17-476c-a9ed-1188f9633544",
   "metadata": {},
   "source": [
    "### check again"
   ]
  },
  {
   "cell_type": "code",
   "execution_count": null,
   "id": "35dbed90-7712-4bed-ba5b-98eb9a40c3c5",
   "metadata": {},
   "outputs": [],
   "source": [
    "df.duplicated().sum()"
   ]
  },
  {
   "cell_type": "markdown",
   "id": "3f6204ae-eebd-4c0a-8a24-9bc1e14f8fd2",
   "metadata": {},
   "source": [
    "### MISSING VALUES"
   ]
  },
  {
   "cell_type": "markdown",
   "id": "516774ad-6c61-4d30-b4c8-1bebd7c71c58",
   "metadata": {},
   "source": [
    "### to check for missing values"
   ]
  },
  {
   "cell_type": "code",
   "execution_count": null,
   "id": "a0c50797-060f-430c-9001-8caceaf3588b",
   "metadata": {},
   "outputs": [],
   "source": [
    "df.isna().sum()"
   ]
  },
  {
   "cell_type": "markdown",
   "id": "ae9aee99-a4d0-48d5-8c28-0e4d2daf6ebe",
   "metadata": {},
   "source": [
    "### to check for missing value ratios"
   ]
  },
  {
   "cell_type": "code",
   "execution_count": null,
   "id": "81113f9f-339e-4bd1-af03-9e708a4a0428",
   "metadata": {},
   "outputs": [],
   "source": [
    "df.isna().sum()/len(df)"
   ]
  },
  {
   "cell_type": "markdown",
   "id": "9f2c0b69-7bce-4057-963a-1fc93f8a41f6",
   "metadata": {},
   "source": [
    "### visuaize missing value data using heatmap"
   ]
  },
  {
   "cell_type": "code",
   "execution_count": null,
   "id": "9e5bb33a-d936-4b65-ae52-034da52fe26d",
   "metadata": {},
   "outputs": [],
   "source": [
    "sns.heatmap(df.isnull())"
   ]
  },
  {
   "cell_type": "markdown",
   "id": "8957c12a-58dc-4832-8fba-ac79731df0d8",
   "metadata": {},
   "source": [
    "### #to eliminate scale or bar"
   ]
  },
  {
   "cell_type": "code",
   "execution_count": null,
   "id": "1a1b56a7-d554-49dd-b195-0d9e5e900076",
   "metadata": {},
   "outputs": [],
   "source": [
    "sns.heatmap(df.isnull(),cbar=False)"
   ]
  },
  {
   "cell_type": "markdown",
   "id": "459d8a8a-3604-4397-b55a-e27d45ad3b49",
   "metadata": {},
   "source": [
    "### #We can fill missing values with zeroes, mean or mode\n",
    "#fill numeric values with mean"
   ]
  },
  {
   "cell_type": "code",
   "execution_count": null,
   "id": "737662bd-fb0d-4eb7-b756-bc5d66a84a51",
   "metadata": {},
   "outputs": [],
   "source": [
    "df.fillna(df.mean(),inplace=True)  #inplace True makes the change permanent"
   ]
  },
  {
   "cell_type": "markdown",
   "id": "083b075e-1c1c-44c9-b8a1-e8ecf876e5c3",
   "metadata": {},
   "source": [
    "### check missing values"
   ]
  },
  {
   "cell_type": "code",
   "execution_count": null,
   "id": "65c5faae-a153-45e8-9c63-451173d9c24f",
   "metadata": {},
   "outputs": [],
   "source": [
    "df.isna().sum()"
   ]
  },
  {
   "cell_type": "markdown",
   "id": "377f1d1c-deac-4968-8b4d-eb91539d4498",
   "metadata": {},
   "source": [
    "### Only numeric values are replaced by the mean. FOr the categorical values, we need to replace with mode"
   ]
  },
  {
   "cell_type": "markdown",
   "id": "60d4cb3d-f67f-4b28-8b00-26cec9a13fcc",
   "metadata": {},
   "source": [
    "### #to get mode and all values"
   ]
  },
  {
   "cell_type": "code",
   "execution_count": null,
   "id": "e73079e6-0916-421c-9b52-e9dc95460ddc",
   "metadata": {},
   "outputs": [],
   "source": [
    "df.mode()"
   ]
  },
  {
   "cell_type": "markdown",
   "id": "cdc3fdab-a260-4a59-8897-106acd19a4d8",
   "metadata": {},
   "source": [
    "### to get only the first row, use iloc with index location as 0"
   ]
  },
  {
   "cell_type": "code",
   "execution_count": null,
   "id": "b7424efb-28ec-481c-8ff8-44fc8a46718f",
   "metadata": {},
   "outputs": [],
   "source": [
    "df.mode().iloc[0]"
   ]
  },
  {
   "cell_type": "markdown",
   "id": "ef3856c0-cfe2-4b63-b73c-adb40772addc",
   "metadata": {},
   "source": [
    "### use these to fill missing values"
   ]
  },
  {
   "cell_type": "code",
   "execution_count": null,
   "id": "952a6c6c-e4b0-48b6-9091-322a62644726",
   "metadata": {},
   "outputs": [],
   "source": [
    "df.fillna(df.mode().iloc[0],inplace=True)"
   ]
  },
  {
   "cell_type": "markdown",
   "id": "aa4a5f48-ee0b-4045-a0c3-15bc5c245a05",
   "metadata": {},
   "source": [
    "### check for missing values"
   ]
  },
  {
   "cell_type": "code",
   "execution_count": null,
   "id": "e9833c48-68d5-43d3-a4ee-bf2f2670ac51",
   "metadata": {},
   "outputs": [],
   "source": [
    "df.isna().sum()"
   ]
  },
  {
   "cell_type": "markdown",
   "id": "0f359170-77fa-471f-ae8c-fe8db7c986f9",
   "metadata": {},
   "source": [
    "### visualize missing values"
   ]
  },
  {
   "cell_type": "code",
   "execution_count": null,
   "id": "0522db14-af92-4ce4-aca9-09280189be46",
   "metadata": {},
   "outputs": [],
   "source": [
    "sns.heatmap(df.isnull(),cbar=False)"
   ]
  },
  {
   "cell_type": "markdown",
   "id": "4f39c810-e473-4878-bb50-643757c7da6d",
   "metadata": {},
   "source": [
    "### PANDA PROFILING PACKAGE"
   ]
  },
  {
   "cell_type": "markdown",
   "id": "2e686eba-f6f8-428d-bb23-a8a417d77d36",
   "metadata": {},
   "source": [
    "### create new dataframe from the source file"
   ]
  },
  {
   "cell_type": "code",
   "execution_count": null,
   "id": "65d4cc45-77bf-415b-8191-b0dc75d449c0",
   "metadata": {},
   "outputs": [],
   "source": [
    "dataset = pd.read_csv(‘supermarket_sales.csv’)\n",
    "dataset.head(2)"
   ]
  },
  {
   "cell_type": "code",
   "execution_count": null,
   "id": "3e2351b0-2ba6-4ee4-b3b5-e756e0418ce2",
   "metadata": {},
   "outputs": [],
   "source": [
    "prof = ProfileReport(dataset)\n",
    "prof"
   ]
  },
  {
   "cell_type": "markdown",
   "id": "6dddb273-589f-4772-a302-847161efc1ce",
   "metadata": {},
   "source": [
    "### TASK 5: CORRELATION ANALYSIS"
   ]
  },
  {
   "cell_type": "code",
   "execution_count": null,
   "id": "28ef1d2e-af5f-42e3-9656-9a13428a7e30",
   "metadata": {},
   "outputs": [],
   "source": [
    "np.corrcoef(df[‘gross income’], df[‘Rating’])"
   ]
  },
  {
   "cell_type": "markdown",
   "id": "f1f86ae7-37ac-4521-9be1-21d119caf4e2",
   "metadata": {},
   "source": [
    "### to get only one value and round it"
   ]
  },
  {
   "cell_type": "code",
   "execution_count": null,
   "id": "9db4e9ae-53ce-45c6-a712-d38638e28b2c",
   "metadata": {},
   "outputs": [],
   "source": [
    "round(np.corrcoef(df[‘gross income’], df[‘Rating’]),2)"
   ]
  },
  {
   "cell_type": "markdown",
   "id": "c9ec0bad-f492-4258-9cf6-8fd0683944f9",
   "metadata": {},
   "source": [
    "### #to get corr matrix"
   ]
  },
  {
   "cell_type": "code",
   "execution_count": null,
   "id": "79a63be6-c89e-40da-91a8-5ea3adbf682b",
   "metadata": {},
   "outputs": [],
   "source": [
    "df.corr()"
   ]
  },
  {
   "cell_type": "markdown",
   "id": "f2312e8e-332b-4c7b-8755-90fbaa920ba0",
   "metadata": {},
   "source": [
    "### # to get readable table values"
   ]
  },
  {
   "cell_type": "code",
   "execution_count": null,
   "id": "87c07ad0-abbe-4a54-9eb4-a4fbc5e838d5",
   "metadata": {},
   "outputs": [],
   "source": [
    "np.round(df.corr(),2)"
   ]
  },
  {
   "cell_type": "markdown",
   "id": "b0c8b16c-a070-4160-87b8-147e918926c1",
   "metadata": {},
   "source": [
    "### # to visualize in a heatmap"
   ]
  },
  {
   "cell_type": "code",
   "execution_count": null,
   "id": "5a08aa92-b77b-46cb-9f5b-0456a46a0003",
   "metadata": {},
   "outputs": [],
   "source": [
    "sns.heatmap(np.round(df.corr(),2)"
   ]
  },
  {
   "cell_type": "code",
   "execution_count": null,
   "id": "2dbf70ad-6321-4346-b325-137b1434b02c",
   "metadata": {},
   "outputs": [],
   "source": [
    "# to add labels"
   ]
  },
  {
   "cell_type": "code",
   "execution_count": null,
   "id": "31787673-4dd1-477c-80e6-a70435f234e3",
   "metadata": {},
   "outputs": [],
   "source": [
    "sns.heatmap(np.round(df.corr(),2),annot=True)"
   ]
  }
 ],
 "metadata": {
  "kernelspec": {
   "display_name": "Python 3 (ipykernel)",
   "language": "python",
   "name": "python3"
  },
  "language_info": {
   "codemirror_mode": {
    "name": "ipython",
    "version": 3
   },
   "file_extension": ".py",
   "mimetype": "text/x-python",
   "name": "python",
   "nbconvert_exporter": "python",
   "pygments_lexer": "ipython3",
   "version": "3.9.7"
  }
 },
 "nbformat": 4,
 "nbformat_minor": 5
}
